{
 "cells": [
  {
   "cell_type": "markdown",
   "id": "amazing-cutting",
   "metadata": {},
   "source": [
    "# Create data subset"
   ]
  },
  {
   "cell_type": "markdown",
   "id": "mexican-settle",
   "metadata": {},
   "source": [
    "### Explore structure of dataset 'snes'"
   ]
  },
  {
   "cell_type": "code",
   "execution_count": 1,
   "id": "colored-brazil",
   "metadata": {},
   "outputs": [],
   "source": [
    "import mwparserfromhell\n",
    "import numpy as np\n",
    "import pandas as pd\n",
    "import pickle\n",
    "import re\n",
    "import spacy\n",
    "import string\n",
    "import time\n",
    "from pytorch_pretrained_bert.tokenization import BertTokenizer"
   ]
  },
  {
   "cell_type": "code",
   "execution_count": 2,
   "id": "valid-place",
   "metadata": {},
   "outputs": [],
   "source": [
    "# SPECIFY RUN MODE\n",
    "\n",
    "test_flag = False # True or False"
   ]
  },
  {
   "cell_type": "code",
   "execution_count": 3,
   "id": "fitting-investigator",
   "metadata": {},
   "outputs": [
    {
     "name": "stdout",
     "output_type": "stream",
     "text": [
      "Using HANSEN_DATASET: pomt\n"
     ]
    }
   ],
   "source": [
    "### SPECIFY DATASET\n",
    "\n",
    "HANSEN_DATASET = 'pomt' # 'snes' OR 'pomt'\n",
    "\n",
    "print(f'Using HANSEN_DATASET: {HANSEN_DATASET}')"
   ]
  },
  {
   "cell_type": "code",
   "execution_count": 4,
   "id": "supreme-validity",
   "metadata": {},
   "outputs": [],
   "source": [
    "def load_data(dataset):\n",
    "    path = \"data/hansen_data/\" + dataset + \"/\"\n",
    "    main_data = pd.read_csv(path + dataset + \".tsv\", sep=\"\\t\", header=None)\n",
    "    snippets_data = pd.read_csv(path + dataset + \"_snippets.tsv\", sep=\"\\t\", header=None, encoding='utf-8') # \\xa0 is latin_1\n",
    "    label_order = pickle.load(open(path + dataset + \"_labels.pkl\", \"rb\"))\n",
    "    splits = pickle.load(open(path + dataset + \"_index_split.pkl\", \"rb\"))\n",
    "\n",
    "    return main_data, snippets_data, label_order, splits"
   ]
  },
  {
   "cell_type": "code",
   "execution_count": 5,
   "id": "stock-manner",
   "metadata": {},
   "outputs": [],
   "source": [
    "main_data, snippets_data, label_order, splits = load_data(HANSEN_DATASET)"
   ]
  },
  {
   "cell_type": "code",
   "execution_count": 6,
   "id": "revised-committee",
   "metadata": {},
   "outputs": [
    {
     "name": "stdout",
     "output_type": "stream",
     "text": [
      "main_data:\n",
      "\n",
      "shape: (13581, 13)\n"
     ]
    },
    {
     "data": {
      "text/html": [
       "<div>\n",
       "<style scoped>\n",
       "    .dataframe tbody tr th:only-of-type {\n",
       "        vertical-align: middle;\n",
       "    }\n",
       "\n",
       "    .dataframe tbody tr th {\n",
       "        vertical-align: top;\n",
       "    }\n",
       "\n",
       "    .dataframe thead th {\n",
       "        text-align: right;\n",
       "    }\n",
       "</style>\n",
       "<table border=\"1\" class=\"dataframe\">\n",
       "  <thead>\n",
       "    <tr style=\"text-align: right;\">\n",
       "      <th></th>\n",
       "      <th>0</th>\n",
       "      <th>1</th>\n",
       "      <th>2</th>\n",
       "      <th>3</th>\n",
       "      <th>4</th>\n",
       "      <th>5</th>\n",
       "      <th>6</th>\n",
       "      <th>7</th>\n",
       "      <th>8</th>\n",
       "      <th>9</th>\n",
       "      <th>10</th>\n",
       "      <th>11</th>\n",
       "      <th>12</th>\n",
       "    </tr>\n",
       "  </thead>\n",
       "  <tbody>\n",
       "    <tr>\n",
       "      <th>0</th>\n",
       "      <td>pomt-03627</td>\n",
       "      <td>Six out of 10 of the highest unemployment rate...</td>\n",
       "      <td>half-true</td>\n",
       "      <td>/ohio/statements/2013/may/06/chris-redfern/ohi...</td>\n",
       "      <td>When a couple of Statehouse Republicans prepar...</td>\n",
       "      <td>None</td>\n",
       "      <td>Chris Redfern</td>\n",
       "      <td>None</td>\n",
       "      <td>None</td>\n",
       "      <td>None</td>\n",
       "      <td>2013-05-06T06:00:00</td>\n",
       "      <td>2013-04-30</td>\n",
       "      <td>['None']</td>\n",
       "    </tr>\n",
       "    <tr>\n",
       "      <th>1</th>\n",
       "      <td>pomt-09611</td>\n",
       "      <td>No Democratic campaign for (Fla.) governor has...</td>\n",
       "      <td>true</td>\n",
       "      <td>/florida/statements/2010/jan/15/alex-sink/flor...</td>\n",
       "      <td>Florida's leading Republican candidate for gov...</td>\n",
       "      <td>None</td>\n",
       "      <td>Alex Sink</td>\n",
       "      <td>None</td>\n",
       "      <td>None</td>\n",
       "      <td>None</td>\n",
       "      <td>2010-01-15T13:59:00</td>\n",
       "      <td>2010-01-06</td>\n",
       "      <td>['None']</td>\n",
       "    </tr>\n",
       "    <tr>\n",
       "      <th>2</th>\n",
       "      <td>pomt-06704</td>\n",
       "      <td>Says Ron Paul insisted FEMA should be shut down.</td>\n",
       "      <td>true</td>\n",
       "      <td>/texas/statements/2011/sep/03/maureen-dowd/mau...</td>\n",
       "      <td>Commenting on the federal response to Hurrican...</td>\n",
       "      <td>None</td>\n",
       "      <td>Maureen Dowd</td>\n",
       "      <td>None</td>\n",
       "      <td>None</td>\n",
       "      <td>None</td>\n",
       "      <td>2011-09-03T06:00:00</td>\n",
       "      <td>2011-08-30</td>\n",
       "      <td>['None']</td>\n",
       "    </tr>\n",
       "    <tr>\n",
       "      <th>3</th>\n",
       "      <td>pomt-15232</td>\n",
       "      <td>Says Hillary Clinton has \"been in office and i...</td>\n",
       "      <td>mostly false</td>\n",
       "      <td>/truth-o-meter/statements/2015/aug/07/marco-ru...</td>\n",
       "      <td>Sen. Marco Rubio, R-Fla., says the electorate ...</td>\n",
       "      <td>None</td>\n",
       "      <td>Marco Rubio</td>\n",
       "      <td>None</td>\n",
       "      <td>None</td>\n",
       "      <td>None</td>\n",
       "      <td>2015-08-07T00:55:38</td>\n",
       "      <td>2015-08-06</td>\n",
       "      <td>['None']</td>\n",
       "    </tr>\n",
       "    <tr>\n",
       "      <th>4</th>\n",
       "      <td>pomt-02638</td>\n",
       "      <td>In 1916, the U.S. government predicted that by...</td>\n",
       "      <td>false</td>\n",
       "      <td>/truth-o-meter/statements/2014/jan/17/facebook...</td>\n",
       "      <td>With the recent legalization of recreational m...</td>\n",
       "      <td>None</td>\n",
       "      <td>Facebook posts</td>\n",
       "      <td>None</td>\n",
       "      <td>None</td>\n",
       "      <td>None</td>\n",
       "      <td>2014-01-17T14:19:04</td>\n",
       "      <td>2014-01-16</td>\n",
       "      <td>['United_States']</td>\n",
       "    </tr>\n",
       "  </tbody>\n",
       "</table>\n",
       "</div>"
      ],
      "text/plain": [
       "           0                                                  1   \\\n",
       "0  pomt-03627  Six out of 10 of the highest unemployment rate...   \n",
       "1  pomt-09611  No Democratic campaign for (Fla.) governor has...   \n",
       "2  pomt-06704   Says Ron Paul insisted FEMA should be shut down.   \n",
       "3  pomt-15232  Says Hillary Clinton has \"been in office and i...   \n",
       "4  pomt-02638  In 1916, the U.S. government predicted that by...   \n",
       "\n",
       "             2                                                  3   \\\n",
       "0     half-true  /ohio/statements/2013/may/06/chris-redfern/ohi...   \n",
       "1          true  /florida/statements/2010/jan/15/alex-sink/flor...   \n",
       "2          true  /texas/statements/2011/sep/03/maureen-dowd/mau...   \n",
       "3  mostly false  /truth-o-meter/statements/2015/aug/07/marco-ru...   \n",
       "4         false  /truth-o-meter/statements/2014/jan/17/facebook...   \n",
       "\n",
       "                                                  4     5               6   \\\n",
       "0  When a couple of Statehouse Republicans prepar...  None   Chris Redfern   \n",
       "1  Florida's leading Republican candidate for gov...  None       Alex Sink   \n",
       "2  Commenting on the federal response to Hurrican...  None    Maureen Dowd   \n",
       "3  Sen. Marco Rubio, R-Fla., says the electorate ...  None     Marco Rubio   \n",
       "4  With the recent legalization of recreational m...  None  Facebook posts   \n",
       "\n",
       "     7     8     9                    10          11                 12  \n",
       "0  None  None  None  2013-05-06T06:00:00  2013-04-30           ['None']  \n",
       "1  None  None  None  2010-01-15T13:59:00  2010-01-06           ['None']  \n",
       "2  None  None  None  2011-09-03T06:00:00  2011-08-30           ['None']  \n",
       "3  None  None  None  2015-08-07T00:55:38  2015-08-06           ['None']  \n",
       "4  None  None  None  2014-01-17T14:19:04  2014-01-16  ['United_States']  "
      ]
     },
     "execution_count": 6,
     "metadata": {},
     "output_type": "execute_result"
    }
   ],
   "source": [
    "print(f'main_data:\\n')\n",
    "print(f'shape: {main_data.shape}')\n",
    "main_data.head()"
   ]
  },
  {
   "cell_type": "code",
   "execution_count": 7,
   "id": "eight-discrimination",
   "metadata": {},
   "outputs": [
    {
     "name": "stdout",
     "output_type": "stream",
     "text": [
      "Sample row:\n",
      "\n",
      "0                                            pomt-03627\n",
      "1     Six out of 10 of the highest unemployment rate...\n",
      "2                                             half-true\n",
      "3     /ohio/statements/2013/may/06/chris-redfern/ohi...\n",
      "4     When a couple of Statehouse Republicans prepar...\n",
      "5                                                  None\n",
      "6                                         Chris Redfern\n",
      "7                                                  None\n",
      "8                                                  None\n",
      "9                                                  None\n",
      "10                                  2013-05-06T06:00:00\n",
      "11                                           2013-04-30\n",
      "12                                             ['None']\n",
      "Name: 0, dtype: object\n",
      "\n",
      "Claim: Six out of 10 of the highest unemployment rates are also in so-called right to work states.\n",
      "\n"
     ]
    }
   ],
   "source": [
    "print(f'Sample row:\\n')\n",
    "print(f'{main_data.iloc[0]}\\n')\n",
    "print(f'Claim: {main_data.iloc[0,1]}\\n')"
   ]
  },
  {
   "cell_type": "code",
   "execution_count": 8,
   "id": "careful-niagara",
   "metadata": {},
   "outputs": [],
   "source": [
    "# Correct fatal error in pomt main_data\n",
    "\n",
    "if HANSEN_DATASET == 'pomt':\n",
    "    \n",
    "    main_data.iloc[699,1] = 'Georgia has the most restrictive ballot access laws in the country.'"
   ]
  },
  {
   "cell_type": "markdown",
   "id": "champion-equilibrium",
   "metadata": {},
   "source": [
    "### Extract claim only"
   ]
  },
  {
   "cell_type": "code",
   "execution_count": 9,
   "id": "minor-pointer",
   "metadata": {},
   "outputs": [],
   "source": [
    "if test_flag == True: extract_df = main_data.iloc[:100,[0,1]] ### TESTING ONLY\n",
    "    \n",
    "else: extract_df = main_data.iloc[:,[0,1]]"
   ]
  },
  {
   "cell_type": "code",
   "execution_count": 10,
   "id": "irish-services",
   "metadata": {},
   "outputs": [
    {
     "name": "stdout",
     "output_type": "stream",
     "text": [
      "claim_extract_path: data/ac295_pomt_claim_extract.tsv\n"
     ]
    }
   ],
   "source": [
    "claim_extract_path = f'data/ac295_{HANSEN_DATASET}_claim_extract.tsv'\n",
    "print(f'claim_extract_path: {claim_extract_path}')"
   ]
  },
  {
   "cell_type": "code",
   "execution_count": 11,
   "id": "attached-switzerland",
   "metadata": {},
   "outputs": [],
   "source": [
    "extract_df.to_csv(claim_extract_path, sep='\\t', header=None, index=False, encoding='utf-8')"
   ]
  },
  {
   "cell_type": "markdown",
   "id": "comfortable-innocent",
   "metadata": {},
   "source": [
    "# Format New Text for Neutralization\n",
    "\n",
    "Adapted from https://github.com/rpryzant/neutralizing-bias/tree/master/harvest"
   ]
  },
  {
   "cell_type": "code",
   "execution_count": 12,
   "id": "matched-button",
   "metadata": {},
   "outputs": [],
   "source": [
    "### Adapted from harvest/gen_data_from_crawl.py\n",
    "\n",
    "def clean_wikitext(token_list):    \n",
    "    x = ' '.join(token_list)\n",
    "\n",
    "    # ascii only\n",
    "    x = ''.join(filter(lambda x: x in string.printable, x))\n",
    "\n",
    "    # preemptively remove <ref>'s (including uncompleted)\n",
    "    x = x.strip()\n",
    "    #x = rm_refs(x)\n",
    "    # collapse multispaces\n",
    "    x = re.sub('[ ]+', ' ', x)\n",
    "\n",
    "    parse = mwparserfromhell.parse(x)\n",
    "    plaintext = parse.strip_code()\n",
    "    #plaintext = rm_refs(plaintext) # get refs again? some things missed\n",
    "    # collapse multispaces\n",
    "    plaintext = re.sub('[ ]+', ' ', plaintext)\n",
    "    # parse again to hit complicatd nested wikicode like 21055249\n",
    "    parse = mwparserfromhell.parse(plaintext)\n",
    "    plaintext = parse.strip_code()\n",
    "\n",
    "    # ignore lines starting with ! or | (likely table artifacts)\n",
    "    if plaintext.startswith('?') or plaintext.startswith('|'):\n",
    "        plaintext = ''\n",
    "\n",
    "    # ignore lines without text, e.g. ( , , , , ) or ]]\n",
    "    if not re.findall('\\w', plaintext):\n",
    "        plaintext = ''\n",
    "\n",
    "    # parse AGAIN again to hit remaining links e.g. 377258469\n",
    "    plaintext = plaintext.replace('[ ', '[').replace(' ]', ']')\n",
    "    parse = mwparserfromhell.parse(plaintext)\n",
    "    plaintext = parse.strip_code()\n",
    "\n",
    "    # at this point just rm all brackets\n",
    "    plaintext = plaintext.replace(']', '').replace('[', '')\n",
    "    # rm html\n",
    "    plaintext = re.sub('http\\S+', '', plaintext)\n",
    "    # rm parents with nothing in them, e.g. (; )\n",
    "    plaintext = re.sub('\\([^\\w]*\\)', '', plaintext)\n",
    "    # rm remining <del>, <ins> (valid tags should already have been taken parsed)\n",
    "    plaintext = re.sub('<\\/?(del|ins)([-\\w=\" <>]+)?>', '', plaintext)\n",
    "    # place stars\n",
    "    plaintext = plaintext.replace('*', '')\n",
    "    # rm table fragments\n",
    "    plaintext = re.sub('(right[ ]?\\||left[ ]?\\||thumb[ ]?\\||frame[ ]?\\||\\d+px[ ]?\\|)', '', plaintext)\n",
    "    # ignore timestamp sentences\n",
    "    if 'retrieved on' in plaintext.lower():\n",
    "        plaintext = ''\n",
    "    # msc html missed\n",
    "    plaintext = plaintext.replace('<blockquote>', '')\n",
    "    \n",
    "    # remove tabs and newlines - deliminators used by neutralizing bias\n",
    "    # Pryzant made an error here and did not assign the modified text back to the original variable\n",
    "    plaintext = plaintext.replace('\\t', ' ')\n",
    "    plaintext = plaintext.replace('\\n', ' ')\n",
    "    plaintext = plaintext.replace('\\r', '')\n",
    "    # collapse multispaces (again again)\n",
    "    plaintext = re.sub('[ ]+', ' ', plaintext).strip()\n",
    "    \n",
    "    return plaintext"
   ]
  },
  {
   "cell_type": "code",
   "execution_count": 13,
   "id": "sticky-patrol",
   "metadata": {},
   "outputs": [
    {
     "name": "stderr",
     "output_type": "stream",
     "text": [
      "11/30/2021 23:41:05 - INFO - pytorch_pretrained_bert.tokenization -   loading vocabulary file https://s3.amazonaws.com/models.huggingface.co/bert/bert-base-uncased-vocab.txt from cache at C:\\Users\\xsrpc21b\\.pytorch_pretrained_bert\\26bc1ad6c0ac742e9b52263248f6d0f00068293b33709fae12320c0e35ccfbbb.542ce4285a40d23a559526243235df47c5f75c197f04f37d1a0c124c32c9a084\n"
     ]
    }
   ],
   "source": [
    "tokenizer = BertTokenizer.from_pretrained('bert-base-uncased')\n",
    "\n",
    "def tokenize(s):    \n",
    "    tok_list = tokenizer.tokenize(s.strip())\n",
    "    return ' '.join(tok_list)"
   ]
  },
  {
   "cell_type": "code",
   "execution_count": 14,
   "id": "difficult-exception",
   "metadata": {},
   "outputs": [],
   "source": [
    "### From harvest/add_tags.py\n",
    "\n",
    "NLP = spacy.load(\"en_core_web_sm\")\n",
    "\n",
    "def get_pos_dep(text):\n",
    "    \n",
    "    toks = text.split()\n",
    "    \n",
    "    def words_from_toks(toks):\n",
    "        words = []\n",
    "        word_indices = []\n",
    "        for i, tok in enumerate(toks):\n",
    "            if tok.startswith('##'):\n",
    "                words[-1] += tok.replace('##', '')\n",
    "                word_indices[-1].append(i)\n",
    "            else:\n",
    "                words.append(tok)\n",
    "                word_indices.append([i])\n",
    "        return words, word_indices\n",
    "\n",
    "    out_pos, out_dep = [], []\n",
    "    words, word_indices = words_from_toks(toks)\n",
    "    analysis = NLP(' '.join(words))\n",
    "    \n",
    "    if len(analysis) != len(words):\n",
    "        return None, None\n",
    "\n",
    "    for analysis_tok, idx in zip(analysis, word_indices):\n",
    "        out_pos += [analysis_tok.pos_] * len(idx)\n",
    "        out_dep += [analysis_tok.dep_] * len(idx)\n",
    "    \n",
    "    assert len(out_pos) == len(out_dep) == len(toks)\n",
    "    \n",
    "    return ' '.join(out_pos), ' '.join(out_dep)"
   ]
  },
  {
   "cell_type": "markdown",
   "id": "twenty-license",
   "metadata": {},
   "source": [
    "### Format claim extract for processing by neutralization model"
   ]
  },
  {
   "cell_type": "code",
   "execution_count": 15,
   "id": "speaking-actor",
   "metadata": {},
   "outputs": [],
   "source": [
    "# Pipeline\n",
    "\n",
    "def process_text(original_text):\n",
    "    \n",
    "    original_text = original_text.replace('\\\"', '')\n",
    "    original_text = original_text.replace('\\t', '')\n",
    "    original_text = original_text.replace('\\n', '')\n",
    "    original_text = original_text.replace('\\r', '')\n",
    "    \n",
    "    cleaned_text = clean_wikitext(original_text.split()) # clean_wikitext takes sentence as list of tokens split on whitespace\n",
    "    tokenized_text = tokenize(cleaned_text)\n",
    "\n",
    "    return tokenized_text"
   ]
  },
  {
   "cell_type": "code",
   "execution_count": 16,
   "id": "junior-journal",
   "metadata": {},
   "outputs": [],
   "source": [
    "df = pd.read_csv(claim_extract_path, sep='\\t', header=None, encoding='utf-8', dtype=str)\n",
    "\n",
    "df = df.rename(columns={0:'id', 1:'original_text'})"
   ]
  },
  {
   "cell_type": "code",
   "execution_count": 17,
   "id": "novel-plant",
   "metadata": {},
   "outputs": [],
   "source": [
    "df['tokenized_text'] = df['original_text'].apply(process_text)"
   ]
  },
  {
   "cell_type": "code",
   "execution_count": 18,
   "id": "blank-saudi",
   "metadata": {},
   "outputs": [
    {
     "name": "stdout",
     "output_type": "stream",
     "text": [
      "Sample data:\n",
      "\n",
      "original_text: Six out of 10 of the highest unemployment rates are also in so-called right to work states.\n",
      "\n",
      "tokenized_text: six out of 10 of the highest unemployment rates are also in so - called right to work states .\n",
      "\n"
     ]
    }
   ],
   "source": [
    "print(f'Sample data:\\n')\n",
    "print('original_text: {}\\n'.format(df.loc[0,'original_text']))\n",
    "print('tokenized_text: {}\\n'.format(df.loc[0,'tokenized_text']))"
   ]
  },
  {
   "cell_type": "code",
   "execution_count": 19,
   "id": "aging-aurora",
   "metadata": {},
   "outputs": [],
   "source": [
    "# Tagging\n",
    "\n",
    "pos_dep = df['tokenized_text'].apply(get_pos_dep) # takes several minutes to run"
   ]
  },
  {
   "cell_type": "code",
   "execution_count": 20,
   "id": "acoustic-guitar",
   "metadata": {},
   "outputs": [],
   "source": [
    "pre_pos, pre_dep = zip(*pos_dep)\n",
    "\n",
    "df['pre_pos'] = pre_pos\n",
    "df['pre_dep'] = pre_dep"
   ]
  },
  {
   "cell_type": "code",
   "execution_count": 21,
   "id": "extensive-ecology",
   "metadata": {},
   "outputs": [],
   "source": [
    "null = 'na'\n",
    "\n",
    "df['placeholder'] = null\n",
    "\n",
    "output_df = df[['id',\n",
    "                'tokenized_text', \n",
    "                'placeholder', \n",
    "                'original_text', \n",
    "                'placeholder', \n",
    "                'pre_pos', \n",
    "                'pre_dep']]"
   ]
  },
  {
   "cell_type": "code",
   "execution_count": 22,
   "id": "athletic-crown",
   "metadata": {},
   "outputs": [
    {
     "name": "stdout",
     "output_type": "stream",
     "text": [
      "claim_formatted_path: data/ac295_pomt_claim_formatted\n"
     ]
    }
   ],
   "source": [
    "claim_formatted_path = f'data/ac295_{HANSEN_DATASET}_claim_formatted'\n",
    "print(f'claim_formatted_path: {claim_formatted_path}')"
   ]
  },
  {
   "cell_type": "code",
   "execution_count": 23,
   "id": "russian-colony",
   "metadata": {},
   "outputs": [],
   "source": [
    "output_df.to_csv(claim_formatted_path, sep='\\t', header=None, index=False, encoding='utf-8')"
   ]
  },
  {
   "cell_type": "markdown",
   "id": "indian-irish",
   "metadata": {},
   "source": [
    "# Run neutralization\n",
    "**main.py**"
   ]
  },
  {
   "cell_type": "code",
   "execution_count": 24,
   "id": "composite-syracuse",
   "metadata": {},
   "outputs": [
    {
     "name": "stdout",
     "output_type": "stream",
     "text": [
      "claim_neutralized_path: data/ac295_pomt_claim_neutralized.tsv\n"
     ]
    }
   ],
   "source": [
    "claim_neutralized_path = f'data/ac295_{HANSEN_DATASET}_claim_neutralized.tsv'\n",
    "print(f'claim_neutralized_path: {claim_neutralized_path}')"
   ]
  },
  {
   "cell_type": "code",
   "execution_count": 25,
   "id": "entertaining-merchant",
   "metadata": {},
   "outputs": [
    {
     "name": "stdout",
     "output_type": "stream",
     "text": [
      "working_dir_path: data/ac295_pomt_temp_1638333738\n"
     ]
    }
   ],
   "source": [
    "timestamp = str(int(time.time()))\n",
    "\n",
    "working_dir_path = f'data/ac295_{HANSEN_DATASET}_temp_{timestamp}'\n",
    "print(f'working_dir_path: {working_dir_path}')"
   ]
  },
  {
   "cell_type": "code",
   "execution_count": 26,
   "id": "secret-aggregate",
   "metadata": {},
   "outputs": [
    {
     "name": "stderr",
     "output_type": "stream",
     "text": [
      "11/30/2021 23:42:19 - INFO - pytorch_pretrained_bert.file_utils -   https://s3.amazonaws.com/models.huggingface.co/bert/bert-base-uncased-vocab.txt not found in cache, downloading to C:\\Users\\xsrpc21b\\AppData\\Local\\Temp\\tmpy55a251g\n",
      "100%|██████████████████████████████████████████████████████████████████████| 231508/231508 [00:00<00:00, 1126328.93B/s]\n",
      "11/30/2021 23:42:20 - INFO - pytorch_pretrained_bert.file_utils -   copying C:\\Users\\xsrpc21b\\AppData\\Local\\Temp\\tmpy55a251g to cache at data/ac295_pomt_temp_1638333738/cache\\26bc1ad6c0ac742e9b52263248f6d0f00068293b33709fae12320c0e35ccfbbb.542ce4285a40d23a559526243235df47c5f75c197f04f37d1a0c124c32c9a084\n",
      "11/30/2021 23:42:20 - INFO - pytorch_pretrained_bert.file_utils -   creating metadata file for data/ac295_pomt_temp_1638333738/cache\\26bc1ad6c0ac742e9b52263248f6d0f00068293b33709fae12320c0e35ccfbbb.542ce4285a40d23a559526243235df47c5f75c197f04f37d1a0c124c32c9a084\n",
      "11/30/2021 23:42:20 - INFO - pytorch_pretrained_bert.file_utils -   removing temp file C:\\Users\\xsrpc21b\\AppData\\Local\\Temp\\tmpy55a251g\n",
      "11/30/2021 23:42:20 - INFO - pytorch_pretrained_bert.tokenization -   loading vocabulary file https://s3.amazonaws.com/models.huggingface.co/bert/bert-base-uncased-vocab.txt from cache at data/ac295_pomt_temp_1638333738/cache\\26bc1ad6c0ac742e9b52263248f6d0f00068293b33709fae12320c0e35ccfbbb.542ce4285a40d23a559526243235df47c5f75c197f04f37d1a0c124c32c9a084\n",
      "13581it [00:01, 13101.56it/s]\n"
     ]
    },
    {
     "name": "stdout",
     "output_type": "stream",
     "text": [
      "SKIPPED  3\n",
      "[['post_error', 'i: 9090', 'revid: pomt-00178'], ['post_error', 'i: 9633', 'revid: pomt-03506'], ['post_error', 'i: 11483', 'revid: pomt-11907']]\n",
      "END skipped_list\n"
     ]
    },
    {
     "name": "stderr",
     "output_type": "stream",
     "text": [
      "C:\\Users\\xsrpc21b\\anaconda3\\envs\\ac295\\lib\\site-packages\\torch\\nn\\modules\\rnn.py:62: UserWarning: dropout option adds dropout after all but last recurrent layer, so non-zero dropout expects num_layers greater than 1, but got dropout=0.2 and num_layers=1\n",
      "  warnings.warn(\"dropout option adds dropout after all but last \"\n",
      "11/30/2021 23:42:22 - INFO - pytorch_pretrained_bert.file_utils -   https://s3.amazonaws.com/models.huggingface.co/bert/bert-base-uncased.tar.gz not found in cache, downloading to C:\\Users\\xsrpc21b\\AppData\\Local\\Temp\\tmpihex2s1w\n",
      "100%|███████████████████████████████████████████████████████████████| 407873900/407873900 [00:14<00:00, 27928220.79B/s]\n",
      "11/30/2021 23:42:37 - INFO - pytorch_pretrained_bert.file_utils -   copying C:\\Users\\xsrpc21b\\AppData\\Local\\Temp\\tmpihex2s1w to cache at data/ac295_pomt_temp_1638333738/cache\\9c41111e2de84547a463fd39217199738d1e3deb72d4fec4399e6e241983c6f0.ae3cef932725ca7a30cdcb93fc6e09150a55e2a130ec7af63975a16c153ae2ba\n",
      "11/30/2021 23:42:37 - INFO - pytorch_pretrained_bert.file_utils -   creating metadata file for data/ac295_pomt_temp_1638333738/cache\\9c41111e2de84547a463fd39217199738d1e3deb72d4fec4399e6e241983c6f0.ae3cef932725ca7a30cdcb93fc6e09150a55e2a130ec7af63975a16c153ae2ba\n",
      "11/30/2021 23:42:37 - INFO - pytorch_pretrained_bert.file_utils -   removing temp file C:\\Users\\xsrpc21b\\AppData\\Local\\Temp\\tmpihex2s1w\n",
      "11/30/2021 23:42:37 - INFO - pytorch_pretrained_bert.modeling -   loading archive file https://s3.amazonaws.com/models.huggingface.co/bert/bert-base-uncased.tar.gz from cache at data/ac295_pomt_temp_1638333738/cache\\9c41111e2de84547a463fd39217199738d1e3deb72d4fec4399e6e241983c6f0.ae3cef932725ca7a30cdcb93fc6e09150a55e2a130ec7af63975a16c153ae2ba\n",
      "11/30/2021 23:42:37 - INFO - pytorch_pretrained_bert.modeling -   extracting archive file data/ac295_pomt_temp_1638333738/cache\\9c41111e2de84547a463fd39217199738d1e3deb72d4fec4399e6e241983c6f0.ae3cef932725ca7a30cdcb93fc6e09150a55e2a130ec7af63975a16c153ae2ba to temp dir C:\\Users\\xsrpc21b\\AppData\\Local\\Temp\\tmpay81gpy1\n",
      "11/30/2021 23:42:40 - INFO - pytorch_pretrained_bert.modeling -   Model config {\n",
      "  \"attention_probs_dropout_prob\": 0.1,\n",
      "  \"hidden_act\": \"gelu\",\n",
      "  \"hidden_dropout_prob\": 0.1,\n",
      "  \"hidden_size\": 768,\n",
      "  \"initializer_range\": 0.02,\n",
      "  \"intermediate_size\": 3072,\n",
      "  \"max_position_embeddings\": 512,\n",
      "  \"num_attention_heads\": 12,\n",
      "  \"num_hidden_layers\": 12,\n",
      "  \"type_vocab_size\": 2,\n",
      "  \"vocab_size\": 30522\n",
      "}\n",
      "\n",
      "11/30/2021 23:42:42 - INFO - pytorch_pretrained_bert.modeling -   loading archive file https://s3.amazonaws.com/models.huggingface.co/bert/bert-base-uncased.tar.gz from cache at data/ac295_pomt_temp_1638333738/cache\\9c41111e2de84547a463fd39217199738d1e3deb72d4fec4399e6e241983c6f0.ae3cef932725ca7a30cdcb93fc6e09150a55e2a130ec7af63975a16c153ae2ba\n",
      "11/30/2021 23:42:42 - INFO - pytorch_pretrained_bert.modeling -   extracting archive file data/ac295_pomt_temp_1638333738/cache\\9c41111e2de84547a463fd39217199738d1e3deb72d4fec4399e6e241983c6f0.ae3cef932725ca7a30cdcb93fc6e09150a55e2a130ec7af63975a16c153ae2ba to temp dir C:\\Users\\xsrpc21b\\AppData\\Local\\Temp\\tmpiev_9wxl\n",
      "11/30/2021 23:42:45 - INFO - pytorch_pretrained_bert.modeling -   Model config {\n",
      "  \"attention_probs_dropout_prob\": 0.1,\n",
      "  \"hidden_act\": \"gelu\",\n",
      "  \"hidden_dropout_prob\": 0.1,\n",
      "  \"hidden_size\": 768,\n",
      "  \"initializer_range\": 0.02,\n",
      "  \"intermediate_size\": 3072,\n",
      "  \"max_position_embeddings\": 512,\n",
      "  \"num_attention_heads\": 12,\n",
      "  \"num_hidden_layers\": 12,\n",
      "  \"type_vocab_size\": 2,\n",
      "  \"vocab_size\": 30522\n",
      "}\n",
      "\n",
      "11/30/2021 23:42:47 - INFO - pytorch_pretrained_bert.modeling -   Weights of BertForMultitaskWithFeaturesOnTop not initialized from pretrained model: ['tok_classifier.out.0.weight', 'tok_classifier.out.0.bias', 'tok_classifier.enricher.0.weight', 'tok_classifier.enricher.0.bias', 'cls_classifier.weight', 'cls_classifier.bias']\n",
      "11/30/2021 23:42:47 - INFO - pytorch_pretrained_bert.modeling -   Weights from pretrained model not used in BertForMultitaskWithFeaturesOnTop: ['cls.predictions.bias', 'cls.predictions.transform.dense.weight', 'cls.predictions.transform.dense.bias', 'cls.predictions.transform.LayerNorm.gamma', 'cls.predictions.transform.LayerNorm.beta', 'cls.predictions.decoder.weight', 'cls.seq_relationship.weight', 'cls.seq_relationship.bias']\n"
     ]
    },
    {
     "name": "stdout",
     "output_type": "stream",
     "text": [
      "LOADING FROM model/neutralization_model.ckpt\n"
     ]
    },
    {
     "name": "stderr",
     "output_type": "stream",
     "text": [
      "\r",
      "  0%|                                                                                          | 0/213 [00:00<?, ?it/s]"
     ]
    },
    {
     "name": "stdout",
     "output_type": "stream",
     "text": [
      "...DONE\n"
     ]
    },
    {
     "name": "stderr",
     "output_type": "stream",
     "text": [
      "100%|████████████████████████████████████████████████████████████████████████████████| 213/213 [25:55<00:00,  7.30s/it]\n"
     ]
    },
    {
     "name": "stdout",
     "output_type": "stream",
     "text": [
      "eval/bleu 0 0\n",
      "eval/true_hits 0.0 0\n"
     ]
    }
   ],
   "source": [
    "# max test_batch_size 32\n",
    "# the output pickle file does not contain the results\n",
    "# src/seq2seq/utils.py has been modified for the required output format: original text, neutralized text, list of changes\n",
    "# src/shared/data.py, src/joint.utils.py & src/seq2seq/utils.py have been modified to log skipped errors\n",
    "### MUST BE RUN as batch size 1 to maintain the correct order\n",
    "\n",
    "%run lib/inference.py \\\n",
    "       --extra_features_top --pre_enrich --activation_hidden \\\n",
    "       --test_batch_size 64 --bert_full_embeddings --debias_weight 1.3 --token_softmax \\\n",
    "       --pointer_generator --coverage \\\n",
    "       --working_dir $working_dir_path \\\n",
    "       --test $claim_formatted_path \\\n",
    "       --checkpoint model/neutralization_model.ckpt \\\n",
    "       --inference_output $claim_neutralized_path"
   ]
  },
  {
   "cell_type": "markdown",
   "id": "fuzzy-aviation",
   "metadata": {},
   "source": [
    "### Load neutralized data"
   ]
  },
  {
   "cell_type": "code",
   "execution_count": 27,
   "id": "eleven-mattress",
   "metadata": {},
   "outputs": [],
   "source": [
    "neutralized_df = pd.read_csv(claim_neutralized_path, \n",
    "                             header=None, sep='\\t', encoding='utf-8')"
   ]
  },
  {
   "cell_type": "code",
   "execution_count": 28,
   "id": "rising-performer",
   "metadata": {},
   "outputs": [
    {
     "data": {
      "text/html": [
       "<div>\n",
       "<style scoped>\n",
       "    .dataframe tbody tr th:only-of-type {\n",
       "        vertical-align: middle;\n",
       "    }\n",
       "\n",
       "    .dataframe tbody tr th {\n",
       "        vertical-align: top;\n",
       "    }\n",
       "\n",
       "    .dataframe thead th {\n",
       "        text-align: right;\n",
       "    }\n",
       "</style>\n",
       "<table border=\"1\" class=\"dataframe\">\n",
       "  <thead>\n",
       "    <tr style=\"text-align: right;\">\n",
       "      <th></th>\n",
       "      <th>0</th>\n",
       "      <th>1</th>\n",
       "      <th>2</th>\n",
       "      <th>3</th>\n",
       "    </tr>\n",
       "  </thead>\n",
       "  <tbody>\n",
       "    <tr>\n",
       "      <th>0</th>\n",
       "      <td>44</td>\n",
       "      <td>says a federal judge in san antonio issued a r...</td>\n",
       "      <td>says a federal judge in san antonio issued a r...</td>\n",
       "      <td>[]</td>\n",
       "    </tr>\n",
       "    <tr>\n",
       "      <th>1</th>\n",
       "      <td>33</td>\n",
       "      <td>says the dick ##ey amendment prevents the cent...</td>\n",
       "      <td>says the dick ##ey amendment prevents the cent...</td>\n",
       "      <td>[]</td>\n",
       "    </tr>\n",
       "    <tr>\n",
       "      <th>2</th>\n",
       "      <td>54</td>\n",
       "      <td>the non ##partisan cb ##o , congressional budg...</td>\n",
       "      <td>the cb ##o , congressional budget office , has...</td>\n",
       "      <td>[]</td>\n",
       "    </tr>\n",
       "    <tr>\n",
       "      <th>3</th>\n",
       "      <td>49</td>\n",
       "      <td>says hillary clinton ' s plan would bring in 6...</td>\n",
       "      <td>says hillary clinton ' s plan would bring in 6...</td>\n",
       "      <td>[]</td>\n",
       "    </tr>\n",
       "    <tr>\n",
       "      <th>4</th>\n",
       "      <td>46</td>\n",
       "      <td>if you are a gun store owner and you decide to...</td>\n",
       "      <td>if you are a gun store owner and you decide to...</td>\n",
       "      <td>[]</td>\n",
       "    </tr>\n",
       "    <tr>\n",
       "      <th>...</th>\n",
       "      <td>...</td>\n",
       "      <td>...</td>\n",
       "      <td>...</td>\n",
       "      <td>...</td>\n",
       "    </tr>\n",
       "    <tr>\n",
       "      <th>13573</th>\n",
       "      <td>13571</td>\n",
       "      <td>most of the ( affordable care act ) has alread...</td>\n",
       "      <td>most of the ( affordable care act ) has in som...</td>\n",
       "      <td>[]</td>\n",
       "    </tr>\n",
       "    <tr>\n",
       "      <th>13574</th>\n",
       "      <td>13578</td>\n",
       "      <td>says ron des ##ant ##is has not revealed $ 145...</td>\n",
       "      <td>says ron des ##ant ##is has not claimed $ 145 ...</td>\n",
       "      <td>[['claimed']]</td>\n",
       "    </tr>\n",
       "    <tr>\n",
       "      <th>13575</th>\n",
       "      <td>13577</td>\n",
       "      <td>my 7 - step plan creates 700 , 000 jobs in 7 y...</td>\n",
       "      <td>my 7 - step plan creates 700 , 000 jobs in 7 y...</td>\n",
       "      <td>[]</td>\n",
       "    </tr>\n",
       "    <tr>\n",
       "      <th>13576</th>\n",
       "      <td>13580</td>\n",
       "      <td>we borrow money from the chinese to buy oil fr...</td>\n",
       "      <td>we borrow money from the chinese to buy oil fr...</td>\n",
       "      <td>[]</td>\n",
       "    </tr>\n",
       "    <tr>\n",
       "      <th>13577</th>\n",
       "      <td>13573</td>\n",
       "      <td>now its official : fda announced that vaccines...</td>\n",
       "      <td>now its official : fda announced that vaccines...</td>\n",
       "      <td>[]</td>\n",
       "    </tr>\n",
       "  </tbody>\n",
       "</table>\n",
       "<p>13578 rows × 4 columns</p>\n",
       "</div>"
      ],
      "text/plain": [
       "           0                                                  1  \\\n",
       "0         44  says a federal judge in san antonio issued a r...   \n",
       "1         33  says the dick ##ey amendment prevents the cent...   \n",
       "2         54  the non ##partisan cb ##o , congressional budg...   \n",
       "3         49  says hillary clinton ' s plan would bring in 6...   \n",
       "4         46  if you are a gun store owner and you decide to...   \n",
       "...      ...                                                ...   \n",
       "13573  13571  most of the ( affordable care act ) has alread...   \n",
       "13574  13578  says ron des ##ant ##is has not revealed $ 145...   \n",
       "13575  13577  my 7 - step plan creates 700 , 000 jobs in 7 y...   \n",
       "13576  13580  we borrow money from the chinese to buy oil fr...   \n",
       "13577  13573  now its official : fda announced that vaccines...   \n",
       "\n",
       "                                                       2              3  \n",
       "0      says a federal judge in san antonio issued a r...             []  \n",
       "1      says the dick ##ey amendment prevents the cent...             []  \n",
       "2      the cb ##o , congressional budget office , has...             []  \n",
       "3      says hillary clinton ' s plan would bring in 6...             []  \n",
       "4      if you are a gun store owner and you decide to...             []  \n",
       "...                                                  ...            ...  \n",
       "13573  most of the ( affordable care act ) has in som...             []  \n",
       "13574  says ron des ##ant ##is has not claimed $ 145 ...  [['claimed']]  \n",
       "13575  my 7 - step plan creates 700 , 000 jobs in 7 y...             []  \n",
       "13576  we borrow money from the chinese to buy oil fr...             []  \n",
       "13577  now its official : fda announced that vaccines...             []  \n",
       "\n",
       "[13578 rows x 4 columns]"
      ]
     },
     "execution_count": 28,
     "metadata": {},
     "output_type": "execute_result"
    }
   ],
   "source": [
    "neutralized_df"
   ]
  },
  {
   "cell_type": "code",
   "execution_count": 29,
   "id": "intensive-lodging",
   "metadata": {},
   "outputs": [
    {
     "name": "stdout",
     "output_type": "stream",
     "text": [
      "i: 40 index: 34:\n",
      "Original Text: bump stocks are already illegal in the state of new york . you can ' t buy one .\n",
      "\n",
      "Neutrlzd Text: bump stocks are already illegal in the state of new york . you can ' t buy one .\n",
      "\n"
     ]
    }
   ],
   "source": [
    "i = 40\n",
    "\n",
    "print(f'i: {i} index: {neutralized_df.iloc[i,0]}:')\n",
    "print(f'Original Text: {neutralized_df.iloc[i,1]}\\n')\n",
    "print(f'Neutrlzd Text: {neutralized_df.iloc[i,2]}\\n')"
   ]
  },
  {
   "cell_type": "code",
   "execution_count": 30,
   "id": "norman-lending",
   "metadata": {},
   "outputs": [
    {
     "name": "stdout",
     "output_type": "stream",
     "text": [
      "i: 5816 index: 5775:\n",
      "\n",
      "Original Text: the washington d . c . - area never has a recession .\n",
      "\n",
      "Neutrlzd Text: the washington d . c . - area has a recession .\n",
      "\n",
      "******************************\n",
      "\n",
      "i: 2222 index: 2230:\n",
      "\n",
      "Original Text: the state bureaucracy jane norton managed grew by $ 43 million in just three years .\n",
      "\n",
      "Neutrlzd Text: the state bureaucracy jane norton managed grew by $ 43 million in three years .\n",
      "\n",
      "******************************\n",
      "\n",
      "i: 10885 index: 10928:\n",
      "\n",
      "Original Text: says i worked with our mayor and other commissioners to help save the school year when a budget crisis in salem threatened to cut four weeks of the school year , including negotiating with teachers to work for free .\n",
      "\n",
      "Neutrlzd Text: says i worked with mayor and other commissioners to help save the school year when a budget crisis in salem threatened to cut four weeks of the school year , including negotiating with teachers to work for free .\n",
      "\n",
      "******************************\n",
      "\n",
      "i: 3369 index: 3382:\n",
      "\n",
      "Original Text: the only housing authority in the state that we have actually given money to is nyc ##ha .\n",
      "\n",
      "Neutrlzd Text: the only housing authority in the state that we have actually given money to is nyc ##ha .\n",
      "\n",
      "******************************\n",
      "\n",
      "i: 6563 index: 6590:\n",
      "\n",
      "Original Text: while i was mayor of the city of providence we had the lowest crime rate in 30 years .\n",
      "\n",
      "Neutrlzd Text: while i was mayor of the city of providence had the lowest crime rate in 30 years .\n",
      "\n",
      "******************************\n",
      "\n"
     ]
    }
   ],
   "source": [
    "for i in np.random.choice(np.arange(len(neutralized_df)), size=5, replace=False):\n",
    "\n",
    "    print(f'i: {i} index: {neutralized_df.iloc[i,0]}:\\n')\n",
    "    print(f'Original Text: {neutralized_df.iloc[i,1]}\\n')\n",
    "    print(f'Neutrlzd Text: {neutralized_df.iloc[i,2]}\\n')\n",
    "    print(f'{\"*\"*30}\\n')"
   ]
  },
  {
   "cell_type": "markdown",
   "id": "floppy-parade",
   "metadata": {},
   "source": [
    "### Apply neutralized data to main_data"
   ]
  },
  {
   "cell_type": "code",
   "execution_count": 31,
   "id": "rubber-plate",
   "metadata": {},
   "outputs": [
    {
     "data": {
      "text/html": [
       "<div>\n",
       "<style scoped>\n",
       "    .dataframe tbody tr th:only-of-type {\n",
       "        vertical-align: middle;\n",
       "    }\n",
       "\n",
       "    .dataframe tbody tr th {\n",
       "        vertical-align: top;\n",
       "    }\n",
       "\n",
       "    .dataframe thead th {\n",
       "        text-align: right;\n",
       "    }\n",
       "</style>\n",
       "<table border=\"1\" class=\"dataframe\">\n",
       "  <thead>\n",
       "    <tr style=\"text-align: right;\">\n",
       "      <th></th>\n",
       "      <th>0</th>\n",
       "      <th>1</th>\n",
       "      <th>2</th>\n",
       "      <th>3</th>\n",
       "      <th>4</th>\n",
       "      <th>5</th>\n",
       "      <th>6</th>\n",
       "      <th>7</th>\n",
       "      <th>8</th>\n",
       "      <th>9</th>\n",
       "      <th>10</th>\n",
       "      <th>11</th>\n",
       "      <th>12</th>\n",
       "    </tr>\n",
       "  </thead>\n",
       "  <tbody>\n",
       "    <tr>\n",
       "      <th>0</th>\n",
       "      <td>pomt-03627</td>\n",
       "      <td>Six out of 10 of the highest unemployment rate...</td>\n",
       "      <td>half-true</td>\n",
       "      <td>/ohio/statements/2013/may/06/chris-redfern/ohi...</td>\n",
       "      <td>When a couple of Statehouse Republicans prepar...</td>\n",
       "      <td>None</td>\n",
       "      <td>Chris Redfern</td>\n",
       "      <td>None</td>\n",
       "      <td>None</td>\n",
       "      <td>None</td>\n",
       "      <td>2013-05-06T06:00:00</td>\n",
       "      <td>2013-04-30</td>\n",
       "      <td>['None']</td>\n",
       "    </tr>\n",
       "  </tbody>\n",
       "</table>\n",
       "</div>"
      ],
      "text/plain": [
       "           0                                                  1          2   \\\n",
       "0  pomt-03627  Six out of 10 of the highest unemployment rate...  half-true   \n",
       "\n",
       "                                                  3   \\\n",
       "0  /ohio/statements/2013/may/06/chris-redfern/ohi...   \n",
       "\n",
       "                                                  4     5              6   \\\n",
       "0  When a couple of Statehouse Republicans prepar...  None  Chris Redfern   \n",
       "\n",
       "     7     8     9                    10          11        12  \n",
       "0  None  None  None  2013-05-06T06:00:00  2013-04-30  ['None']  "
      ]
     },
     "execution_count": 31,
     "metadata": {},
     "output_type": "execute_result"
    }
   ],
   "source": [
    "modified_df = main_data.copy()\n",
    "modified_df.head(1)"
   ]
  },
  {
   "cell_type": "code",
   "execution_count": 32,
   "id": "appreciated-contents",
   "metadata": {},
   "outputs": [],
   "source": [
    "for row in neutralized_df.iterrows():\n",
    "    \n",
    "    target_index = row[1][0]\n",
    "    neutralized_text = row[1][2]\n",
    "    \n",
    "    modified_df.iloc[target_index, 1] = neutralized_text"
   ]
  },
  {
   "cell_type": "code",
   "execution_count": 33,
   "id": "legislative-sculpture",
   "metadata": {},
   "outputs": [
    {
     "data": {
      "text/html": [
       "<div>\n",
       "<style scoped>\n",
       "    .dataframe tbody tr th:only-of-type {\n",
       "        vertical-align: middle;\n",
       "    }\n",
       "\n",
       "    .dataframe tbody tr th {\n",
       "        vertical-align: top;\n",
       "    }\n",
       "\n",
       "    .dataframe thead th {\n",
       "        text-align: right;\n",
       "    }\n",
       "</style>\n",
       "<table border=\"1\" class=\"dataframe\">\n",
       "  <thead>\n",
       "    <tr style=\"text-align: right;\">\n",
       "      <th></th>\n",
       "      <th>0</th>\n",
       "      <th>1</th>\n",
       "      <th>2</th>\n",
       "      <th>3</th>\n",
       "      <th>4</th>\n",
       "      <th>5</th>\n",
       "      <th>6</th>\n",
       "      <th>7</th>\n",
       "      <th>8</th>\n",
       "      <th>9</th>\n",
       "      <th>10</th>\n",
       "      <th>11</th>\n",
       "      <th>12</th>\n",
       "    </tr>\n",
       "  </thead>\n",
       "  <tbody>\n",
       "    <tr>\n",
       "      <th>0</th>\n",
       "      <td>pomt-03627</td>\n",
       "      <td>six out of 10 of the highest unemployment rate...</td>\n",
       "      <td>half-true</td>\n",
       "      <td>/ohio/statements/2013/may/06/chris-redfern/ohi...</td>\n",
       "      <td>When a couple of Statehouse Republicans prepar...</td>\n",
       "      <td>None</td>\n",
       "      <td>Chris Redfern</td>\n",
       "      <td>None</td>\n",
       "      <td>None</td>\n",
       "      <td>None</td>\n",
       "      <td>2013-05-06T06:00:00</td>\n",
       "      <td>2013-04-30</td>\n",
       "      <td>['None']</td>\n",
       "    </tr>\n",
       "    <tr>\n",
       "      <th>1</th>\n",
       "      <td>pomt-09611</td>\n",
       "      <td>no democratic campaign for ( fl ##a . ) govern...</td>\n",
       "      <td>true</td>\n",
       "      <td>/florida/statements/2010/jan/15/alex-sink/flor...</td>\n",
       "      <td>Florida's leading Republican candidate for gov...</td>\n",
       "      <td>None</td>\n",
       "      <td>Alex Sink</td>\n",
       "      <td>None</td>\n",
       "      <td>None</td>\n",
       "      <td>None</td>\n",
       "      <td>2010-01-15T13:59:00</td>\n",
       "      <td>2010-01-06</td>\n",
       "      <td>['None']</td>\n",
       "    </tr>\n",
       "    <tr>\n",
       "      <th>2</th>\n",
       "      <td>pomt-06704</td>\n",
       "      <td>ron paul says fe ##ma should be shut down .</td>\n",
       "      <td>true</td>\n",
       "      <td>/texas/statements/2011/sep/03/maureen-dowd/mau...</td>\n",
       "      <td>Commenting on the federal response to Hurrican...</td>\n",
       "      <td>None</td>\n",
       "      <td>Maureen Dowd</td>\n",
       "      <td>None</td>\n",
       "      <td>None</td>\n",
       "      <td>None</td>\n",
       "      <td>2011-09-03T06:00:00</td>\n",
       "      <td>2011-08-30</td>\n",
       "      <td>['None']</td>\n",
       "    </tr>\n",
       "    <tr>\n",
       "      <th>3</th>\n",
       "      <td>pomt-15232</td>\n",
       "      <td>hillary clinton has been in office and in gove...</td>\n",
       "      <td>mostly false</td>\n",
       "      <td>/truth-o-meter/statements/2015/aug/07/marco-ru...</td>\n",
       "      <td>Sen. Marco Rubio, R-Fla., says the electorate ...</td>\n",
       "      <td>None</td>\n",
       "      <td>Marco Rubio</td>\n",
       "      <td>None</td>\n",
       "      <td>None</td>\n",
       "      <td>None</td>\n",
       "      <td>2015-08-07T00:55:38</td>\n",
       "      <td>2015-08-06</td>\n",
       "      <td>['None']</td>\n",
       "    </tr>\n",
       "    <tr>\n",
       "      <th>4</th>\n",
       "      <td>pomt-02638</td>\n",
       "      <td>in 1916 , the u . s . government stated that b...</td>\n",
       "      <td>false</td>\n",
       "      <td>/truth-o-meter/statements/2014/jan/17/facebook...</td>\n",
       "      <td>With the recent legalization of recreational m...</td>\n",
       "      <td>None</td>\n",
       "      <td>Facebook posts</td>\n",
       "      <td>None</td>\n",
       "      <td>None</td>\n",
       "      <td>None</td>\n",
       "      <td>2014-01-17T14:19:04</td>\n",
       "      <td>2014-01-16</td>\n",
       "      <td>['United_States']</td>\n",
       "    </tr>\n",
       "    <tr>\n",
       "      <th>...</th>\n",
       "      <td>...</td>\n",
       "      <td>...</td>\n",
       "      <td>...</td>\n",
       "      <td>...</td>\n",
       "      <td>...</td>\n",
       "      <td>...</td>\n",
       "      <td>...</td>\n",
       "      <td>...</td>\n",
       "      <td>...</td>\n",
       "      <td>...</td>\n",
       "      <td>...</td>\n",
       "      <td>...</td>\n",
       "      <td>...</td>\n",
       "    </tr>\n",
       "    <tr>\n",
       "      <th>13576</th>\n",
       "      <td>pomt-10818</td>\n",
       "      <td>obama skip ##s out on condemning attacks on ge...</td>\n",
       "      <td>true</td>\n",
       "      <td>/truth-o-meter/statements/2007/sep/21/republic...</td>\n",
       "      <td>Political candidates and parties take plenty o...</td>\n",
       "      <td>None</td>\n",
       "      <td>Republican National Committee</td>\n",
       "      <td>None</td>\n",
       "      <td>None</td>\n",
       "      <td>None</td>\n",
       "      <td>2007-09-21T00:00:00</td>\n",
       "      <td>2007-09-21</td>\n",
       "      <td>['None']</td>\n",
       "    </tr>\n",
       "    <tr>\n",
       "      <th>13577</th>\n",
       "      <td>pomt-08924</td>\n",
       "      <td>my 7 - step plan creates 700 , 000 jobs in 7 y...</td>\n",
       "      <td>mostly true</td>\n",
       "      <td>/florida/statements/2010/jul/26/rick-scott/ric...</td>\n",
       "      <td>Rick Scott, a Republican running for governor,...</td>\n",
       "      <td>None</td>\n",
       "      <td>Rick Scott</td>\n",
       "      <td>None</td>\n",
       "      <td>None</td>\n",
       "      <td>None</td>\n",
       "      <td>2010-07-26T18:25:47</td>\n",
       "      <td>2010-07-25</td>\n",
       "      <td>['None']</td>\n",
       "    </tr>\n",
       "    <tr>\n",
       "      <th>13578</th>\n",
       "      <td>pomt-00146</td>\n",
       "      <td>says ron des ##ant ##is has not claimed $ 145 ...</td>\n",
       "      <td>half-true</td>\n",
       "      <td>/florida/statements/2018/oct/24/andrew-gillum/...</td>\n",
       "      <td>Democratic Tallahassee Mayor Andrew Gillum and...</td>\n",
       "      <td>None</td>\n",
       "      <td>Andrew Gillum</td>\n",
       "      <td>None</td>\n",
       "      <td>None</td>\n",
       "      <td>None</td>\n",
       "      <td>2018-10-24T19:51:42</td>\n",
       "      <td>2018-10-24</td>\n",
       "      <td>['None']</td>\n",
       "    </tr>\n",
       "    <tr>\n",
       "      <th>13579</th>\n",
       "      <td>pomt-10701</td>\n",
       "      <td>i spend a lot of time in iowa , and believe it...</td>\n",
       "      <td>false</td>\n",
       "      <td>/truth-o-meter/statements/2007/nov/29/tom-tanc...</td>\n",
       "      <td>Illegal immigration is one of the key targets ...</td>\n",
       "      <td>None</td>\n",
       "      <td>Tom Tancredo</td>\n",
       "      <td>None</td>\n",
       "      <td>None</td>\n",
       "      <td>None</td>\n",
       "      <td>2007-11-29T00:00:00</td>\n",
       "      <td>2007-11-20</td>\n",
       "      <td>['Iowa']</td>\n",
       "    </tr>\n",
       "    <tr>\n",
       "      <th>13580</th>\n",
       "      <td>pomt-10435</td>\n",
       "      <td>we borrow money from the chinese to buy oil fr...</td>\n",
       "      <td>mostly true</td>\n",
       "      <td>/truth-o-meter/statements/2008/may/12/hillary-...</td>\n",
       "      <td>Speaking to two of voters' biggest economic co...</td>\n",
       "      <td>None</td>\n",
       "      <td>Hillary Clinton</td>\n",
       "      <td>None</td>\n",
       "      <td>None</td>\n",
       "      <td>None</td>\n",
       "      <td>2008-05-12T00:00:00</td>\n",
       "      <td>2008-02-21</td>\n",
       "      <td>['China', 'Saudi_Arabia']</td>\n",
       "    </tr>\n",
       "  </tbody>\n",
       "</table>\n",
       "<p>13581 rows × 13 columns</p>\n",
       "</div>"
      ],
      "text/plain": [
       "               0                                                  1   \\\n",
       "0      pomt-03627  six out of 10 of the highest unemployment rate...   \n",
       "1      pomt-09611  no democratic campaign for ( fl ##a . ) govern...   \n",
       "2      pomt-06704        ron paul says fe ##ma should be shut down .   \n",
       "3      pomt-15232  hillary clinton has been in office and in gove...   \n",
       "4      pomt-02638  in 1916 , the u . s . government stated that b...   \n",
       "...           ...                                                ...   \n",
       "13576  pomt-10818  obama skip ##s out on condemning attacks on ge...   \n",
       "13577  pomt-08924  my 7 - step plan creates 700 , 000 jobs in 7 y...   \n",
       "13578  pomt-00146  says ron des ##ant ##is has not claimed $ 145 ...   \n",
       "13579  pomt-10701  i spend a lot of time in iowa , and believe it...   \n",
       "13580  pomt-10435  we borrow money from the chinese to buy oil fr...   \n",
       "\n",
       "                 2                                                  3   \\\n",
       "0         half-true  /ohio/statements/2013/may/06/chris-redfern/ohi...   \n",
       "1              true  /florida/statements/2010/jan/15/alex-sink/flor...   \n",
       "2              true  /texas/statements/2011/sep/03/maureen-dowd/mau...   \n",
       "3      mostly false  /truth-o-meter/statements/2015/aug/07/marco-ru...   \n",
       "4             false  /truth-o-meter/statements/2014/jan/17/facebook...   \n",
       "...             ...                                                ...   \n",
       "13576          true  /truth-o-meter/statements/2007/sep/21/republic...   \n",
       "13577   mostly true  /florida/statements/2010/jul/26/rick-scott/ric...   \n",
       "13578     half-true  /florida/statements/2018/oct/24/andrew-gillum/...   \n",
       "13579         false  /truth-o-meter/statements/2007/nov/29/tom-tanc...   \n",
       "13580   mostly true  /truth-o-meter/statements/2008/may/12/hillary-...   \n",
       "\n",
       "                                                      4     5   \\\n",
       "0      When a couple of Statehouse Republicans prepar...  None   \n",
       "1      Florida's leading Republican candidate for gov...  None   \n",
       "2      Commenting on the federal response to Hurrican...  None   \n",
       "3      Sen. Marco Rubio, R-Fla., says the electorate ...  None   \n",
       "4      With the recent legalization of recreational m...  None   \n",
       "...                                                  ...   ...   \n",
       "13576  Political candidates and parties take plenty o...  None   \n",
       "13577  Rick Scott, a Republican running for governor,...  None   \n",
       "13578  Democratic Tallahassee Mayor Andrew Gillum and...  None   \n",
       "13579  Illegal immigration is one of the key targets ...  None   \n",
       "13580  Speaking to two of voters' biggest economic co...  None   \n",
       "\n",
       "                                  6     7     8     9                    10  \\\n",
       "0                      Chris Redfern  None  None  None  2013-05-06T06:00:00   \n",
       "1                          Alex Sink  None  None  None  2010-01-15T13:59:00   \n",
       "2                       Maureen Dowd  None  None  None  2011-09-03T06:00:00   \n",
       "3                        Marco Rubio  None  None  None  2015-08-07T00:55:38   \n",
       "4                     Facebook posts  None  None  None  2014-01-17T14:19:04   \n",
       "...                              ...   ...   ...   ...                  ...   \n",
       "13576  Republican National Committee  None  None  None  2007-09-21T00:00:00   \n",
       "13577                     Rick Scott  None  None  None  2010-07-26T18:25:47   \n",
       "13578                  Andrew Gillum  None  None  None  2018-10-24T19:51:42   \n",
       "13579                   Tom Tancredo  None  None  None  2007-11-29T00:00:00   \n",
       "13580                Hillary Clinton  None  None  None  2008-05-12T00:00:00   \n",
       "\n",
       "               11                         12  \n",
       "0      2013-04-30                   ['None']  \n",
       "1      2010-01-06                   ['None']  \n",
       "2      2011-08-30                   ['None']  \n",
       "3      2015-08-06                   ['None']  \n",
       "4      2014-01-16          ['United_States']  \n",
       "...           ...                        ...  \n",
       "13576  2007-09-21                   ['None']  \n",
       "13577  2010-07-25                   ['None']  \n",
       "13578  2018-10-24                   ['None']  \n",
       "13579  2007-11-20                   ['Iowa']  \n",
       "13580  2008-02-21  ['China', 'Saudi_Arabia']  \n",
       "\n",
       "[13581 rows x 13 columns]"
      ]
     },
     "execution_count": 33,
     "metadata": {},
     "output_type": "execute_result"
    }
   ],
   "source": [
    "modified_df"
   ]
  },
  {
   "cell_type": "code",
   "execution_count": 34,
   "id": "steady-daily",
   "metadata": {},
   "outputs": [
    {
     "name": "stdout",
     "output_type": "stream",
     "text": [
      "main_neutralized_path: data/ac295_pomt_main_neutralized.tsv\n"
     ]
    }
   ],
   "source": [
    "main_neutralized_path = f'data/ac295_{HANSEN_DATASET}_main_neutralized.tsv'\n",
    "print(f'main_neutralized_path: {main_neutralized_path}')"
   ]
  },
  {
   "cell_type": "code",
   "execution_count": 35,
   "id": "boring-conservation",
   "metadata": {},
   "outputs": [],
   "source": [
    "modified_df.to_csv(main_neutralized_path, \n",
    "                    index=False, header=None, sep='\\t', encoding='utf-8')"
   ]
  },
  {
   "cell_type": "code",
   "execution_count": null,
   "id": "heated-feedback",
   "metadata": {},
   "outputs": [],
   "source": []
  }
 ],
 "metadata": {
  "kernelspec": {
   "display_name": "ac295",
   "language": "python",
   "name": "ac295"
  },
  "language_info": {
   "codemirror_mode": {
    "name": "ipython",
    "version": 3
   },
   "file_extension": ".py",
   "mimetype": "text/x-python",
   "name": "python",
   "nbconvert_exporter": "python",
   "pygments_lexer": "ipython3",
   "version": "3.8.8"
  }
 },
 "nbformat": 4,
 "nbformat_minor": 5
}
